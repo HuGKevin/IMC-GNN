{
 "cells": [
  {
   "cell_type": "code",
   "execution_count": 5,
   "metadata": {},
   "outputs": [],
   "source": [
    "import numpy as np\n",
    "import torch\n",
    "from models import GCN, GCN_Train\n",
    "import copy\n",
    "\n",
    "\n",
    "from torch_geometric.data import Data, Dataset, DataLoader, batch, Subset"
   ]
  },
  {
   "cell_type": "code",
   "execution_count": 23,
   "metadata": {},
   "outputs": [],
   "source": [
    "class LOPOCV():\n",
    "    \n",
    "    def __init__(self, model, dataset, devices, batch_size):\n",
    "        \n",
    "        self.model_trainers = dict()\n",
    "        self.train_loaders = dict()\n",
    "        self.test_loaders = dict()\n",
    "        self.device_assignment = devices\n",
    "        self.original_model = model\n",
    "        \n",
    "        for patient,datum in enumerate(dataset):\n",
    "            #Get test set\n",
    "            test_set = datum\n",
    "            \n",
    "            #Get training indices for current lopo model\n",
    "            train_ind = list(range(len(dataset)))\n",
    "            train_ind = train_ind[:patient] + train_ind[patient+1:]\n",
    "            \n",
    "            train_set = torch.utils.data.Subset(dataset, train_ind)\n",
    "            self.train_loaders[patient] = DataLoader(train_set, batch_size=batch_size, shuffle = True)\n",
    "            self.test_loaders[patient] = DataLoader(test_set, batch_size=batch_size, shuffle = False)\n",
    "            \n",
    "            #create model\n",
    "            self.model_trainers[patient] = copy.deepcopy(self.model)\n",
    "            \n",
    "            \n",
    "    def train_step(self, verbose=False):\n",
    "        '''\n",
    "        Train all models on appropriate data from train loaders\n",
    "        '''\n",
    "        for patient in self.data_loaders:\n",
    "            while not trainer.flagraiser:\n",
    "                model_trainers[patient].train(self.model_trainers, verbose = verbose)\n",
    "\n",
    "    def validate(self, verbose=False):\n",
    "        '''\n",
    "        Validate all models on their respective leave one out patients\n",
    "        '''\n",
    "        for patient in self.test_loaders:\n",
    "            trainer.validate(self.test_loaders[patient], verbose = verbose)"
   ]
  },
  {
   "cell_type": "code",
   "execution_count": null,
   "metadata": {},
   "outputs": [],
   "source": []
  }
 ],
 "metadata": {
  "kernelspec": {
   "display_name": "Python 3",
   "language": "python",
   "name": "python3"
  },
  "language_info": {
   "codemirror_mode": {
    "name": "ipython",
    "version": 3
   },
   "file_extension": ".py",
   "mimetype": "text/x-python",
   "name": "python",
   "nbconvert_exporter": "python",
   "pygments_lexer": "ipython3",
   "version": "3.6.9"
  }
 },
 "nbformat": 4,
 "nbformat_minor": 4
}
